{
  "nbformat": 4,
  "nbformat_minor": 0,
  "metadata": {
    "colab": {
      "provenance": [],
      "authorship_tag": "ABX9TyMEEXFucFKaQnBIzWjEfqKt",
      "include_colab_link": true
    },
    "kernelspec": {
      "name": "python3",
      "display_name": "Python 3"
    },
    "language_info": {
      "name": "python"
    }
  },
  "cells": [
    {
      "cell_type": "markdown",
      "metadata": {
        "id": "view-in-github",
        "colab_type": "text"
      },
      "source": [
        "<a href=\"https://colab.research.google.com/github/naveen3699-cyber/FMML-Lab/blob/main/backend.ipynb\" target=\"_parent\"><img src=\"https://colab.research.google.com/assets/colab-badge.svg\" alt=\"Open In Colab\"/></a>"
      ]
    },
    {
      "cell_type": "code",
      "source": [
        "import pandas as pd\n",
        "import numpy as np\n",
        "import matplotlib.pyplot as plt\n",
        "import seaborn as sns\n",
        "import yfinance as yf\n",
        "from datetime import datetime, timedelta\n",
        "from sklearn.model_selection import train_test_split\n",
        "from sklearn.ensemble import RandomForestRegressor\n",
        "\n",
        "def fetch_stock_data(stock_symbol, years=1):\n",
        "    \"\"\"Fetch historical stock data for a specific company from Yahoo Finance with error handling.\"\"\"\n",
        "    end_date = datetime.now()\n",
        "    start_date = end_date - timedelta(days=years * 365)\n",
        "\n",
        "    try:\n",
        "        print(f\"Fetching data for {stock_symbol}...\")\n",
        "        stock_data = yf.download(stock_symbol, start=start_date, end=end_date, progress=False)\n",
        "        if stock_data.empty:\n",
        "            raise ValueError(\"No data found. Please check the stock symbol.\")\n",
        "        return stock_data\n",
        "    except Exception as e:\n",
        "        print(f\"Error fetching data: {e}\")\n",
        "        return None\n",
        "\n",
        "def preprocess_data(stock_data):\n",
        "    \"\"\"Prepare data for machine learning model.\"\"\"\n",
        "    if stock_data is None:\n",
        "        return None\n",
        "\n",
        "    stock_data['Date'] = stock_data.index\n",
        "    stock_data['Date'] = stock_data['Date'].map(datetime.toordinal)\n",
        "\n",
        "    return stock_data[['Date', 'Close']].dropna()\n",
        "\n",
        "def train_and_predict(stock_data):\n",
        "    \"\"\"Train a model and predict tomorrow's stock price.\"\"\"\n",
        "    if stock_data is None:\n",
        "        print(\"No data available for training.\")\n",
        "        return None, None\n",
        "\n",
        "    X = stock_data[['Date']]\n",
        "    y = stock_data['Close']\n",
        "\n",
        "    X_train, X_test, y_train, y_test = train_test_split(X, y, test_size=0.2, random_state=42)\n",
        "\n",
        "    model = RandomForestRegressor(n_estimators=100, random_state=42)\n",
        "    model.fit(X_train, y_train)\n",
        "\n",
        "    tomorrow_date = (datetime.now() + timedelta(days=1)).toordinal()\n",
        "    tomorrow_prediction = model.predict(np.array([[tomorrow_date]]))[0]\n",
        "\n",
        "    return tomorrow_date, tomorrow_prediction\n",
        "\n",
        "def display_prediction(tomorrow_date, tomorrow_prediction):\n",
        "    \"\"\"Display tomorrow's stock price prediction in text format.\"\"\"\n",
        "    if tomorrow_date is None or tomorrow_prediction is None:\n",
        "        print(\"No prediction available.\")\n",
        "        return\n",
        "\n",
        "    readable_date = datetime.fromordinal(tomorrow_date).strftime('%Y-%m-%d')\n",
        "    print(f\"\\nPredicted Stock Price for {readable_date}: ${tomorrow_prediction:.2f}\")\n",
        "\n",
        "# User input\n",
        "stock_symbol = input(\"Enter a stock symbol (e.g., AAPL): \")\n",
        "stock_data = fetch_stock_data(stock_symbol, years=5)\n",
        "processed_data = preprocess_data(stock_data)\n",
        "\n",
        "# Train and predict\n",
        "tomorrow_date, tomorrow_prediction = train_and_predict(processed_data)\n",
        "\n",
        "# Display result in text\n",
        "display_prediction(tomorrow_date, tomorrow_prediction)"
      ],
      "metadata": {
        "colab": {
          "base_uri": "https://localhost:8080/"
        },
        "id": "4QkVCmpLt0le",
        "outputId": "2348d012-5a60-4ffa-f0a7-1de1d836fa20"
      },
      "execution_count": 2,
      "outputs": [
        {
          "output_type": "stream",
          "name": "stdout",
          "text": [
            "Enter a stock symbol (e.g., AAPL): JPM\n",
            "Fetching data for JPM...\n"
          ]
        },
        {
          "output_type": "stream",
          "name": "stderr",
          "text": [
            "/usr/local/lib/python3.11/dist-packages/sklearn/base.py:1389: DataConversionWarning: A column-vector y was passed when a 1d array was expected. Please change the shape of y to (n_samples,), for example using ravel().\n",
            "  return fit_method(estimator, *args, **kwargs)\n"
          ]
        },
        {
          "output_type": "stream",
          "name": "stdout",
          "text": [
            "\n",
            "Predicted Stock Price for 2025-03-21: $239.17\n"
          ]
        }
      ]
    }
  ]
}